{
 "cells": [
  {
   "cell_type": "code",
   "execution_count": 1,
   "id": "44d75e22-e0e9-4406-89bb-b97702f7aa24",
   "metadata": {
    "tags": []
   },
   "outputs": [],
   "source": [
    "from pyspark.sql import SparkSession\n",
    "from pyspark.ml.recommendation import ALS\n",
    "from pyspark.ml.evaluation import RegressionEvaluator\n",
    "from pyspark.sql.functions import col"
   ]
  },
  {
   "cell_type": "code",
   "execution_count": 2,
   "id": "df90ec89-a479-4b96-86e8-ed308e424e8b",
   "metadata": {
    "tags": []
   },
   "outputs": [],
   "source": [
    "spark = SparkSession.builder \\\n",
    "        .appName(\"Recommender System\") \\\n",
    "        .config(\"spark.hadoop.fs.s3a.endpoint\", \"http://minio:9000\") \\\n",
    "        .config(\"spark.hadoop.fs.s3a.access.key\", \"minioadmin\") \\\n",
    "        .config(\"spark.hadoop.fs.s3a.secret.key\", \"minioadmin\") \\\n",
    "        .config(\"spark.hadoop.fs.s3a.path.style.access\", True) \\\n",
    "        .config(\"spark.hadoop.fs.s3a.impl\", \"org.apache.hadoop.fs.s3a.S3AFileSystem\") \\\n",
    "        .config(\"spark.hadoop.fs.s3a.aws.credentials.provider\", \"org.apache.hadoop.fs.s3a.SimpleAWSCredentialsProvider\") \\\n",
    "        .getOrCreate()"
   ]
  },
  {
   "cell_type": "code",
   "execution_count": 3,
   "id": "aebdea7d-adcd-4520-8ca9-1bae5f528f03",
   "metadata": {
    "tags": []
   },
   "outputs": [],
   "source": [
    "data = spark.read.csv(\"s3a://datawarehouse/ml_data.csv\", header=True, inferSchema=True)\n",
    "train_data, test_data = data.randomSplit([0.8, 0.2], seed=42)"
   ]
  },
  {
   "cell_type": "code",
   "execution_count": 4,
   "id": "d6a51ee9-a11a-427a-983e-fec1d1262778",
   "metadata": {
    "tags": []
   },
   "outputs": [],
   "source": [
    "# Assuming 'user_id' and 'product_id' need to be integer types\n",
    "train_data = train_data.withColumn(\"user_id\", col(\"user_id\").cast(\"integer\"))\n",
    "train_data = train_data.withColumn(\"product_id\", col(\"product_id\").cast(\"integer\"))\n"
   ]
  },
  {
   "cell_type": "code",
   "execution_count": 5,
   "id": "95e7ecfd-a654-4039-9213-025a2f55b72f",
   "metadata": {
    "tags": []
   },
   "outputs": [],
   "source": [
    "from pyspark.sql.functions import when, col\n",
    "\n",
    "# Add a 'rating' column to train_data\n",
    "train_data = train_data.withColumn('rating', when(col('event_type') == 'purchase', 1).otherwise(0))\n",
    "\n",
    "# Add a 'rating' column to test_data\n",
    "test_data = test_data.withColumn('rating', when(col('event_type') == 'purchase', 1).otherwise(0))\n"
   ]
  },
  {
   "cell_type": "code",
   "execution_count": 6,
   "id": "b9dbdefa-9075-486c-96b4-cfbd28a84b0c",
   "metadata": {
    "tags": []
   },
   "outputs": [],
   "source": [
    "als = ALS(maxIter=5, regParam=0.01, userCol=\"user_id\", itemCol=\"product_id\", ratingCol=\"rating\")\n",
    "model = als.fit(train_data)\n"
   ]
  },
  {
   "cell_type": "code",
   "execution_count": 11,
   "id": "528e3634-7f47-47a3-9c18-3ac4094ee93f",
   "metadata": {
    "tags": []
   },
   "outputs": [
    {
     "name": "stdout",
     "output_type": "stream",
     "text": [
      "Root-mean-square error = 0.13256806102134328\n"
     ]
    }
   ],
   "source": [
    "from pyspark.sql.functions import isnan\n",
    "\n",
    "# Remove rows with null predictions\n",
    "predictions = predictions.na.drop(subset=[\"prediction\"])\n",
    "\n",
    "# You may also filter out any NaN values if they exist\n",
    "predictions = predictions.filter(~isnan(col(\"prediction\")))\n",
    "\n",
    "# Now evaluate the model\n",
    "evaluator = RegressionEvaluator(metricName=\"rmse\", labelCol=\"rating\", predictionCol=\"prediction\")\n",
    "rmse = evaluator.evaluate(predictions)\n",
    "print(\"Root-mean-square error = \" + str(rmse))\n"
   ]
  },
  {
   "cell_type": "code",
   "execution_count": 8,
   "id": "70b948d2-3580-445d-9e04-db2a6a934551",
   "metadata": {},
   "outputs": [],
   "source": [
    "model.save(\"recommendation_model\")\n"
   ]
  },
  {
   "cell_type": "code",
   "execution_count": 10,
   "id": "e30c32a6-1616-42c9-bf4a-de5799907858",
   "metadata": {
    "tags": []
   },
   "outputs": [],
   "source": [
    "from pyspark.ml.recommendation import ALSModel\n",
    "model = ALSModel.load(\"recommendation_model\")\n"
   ]
  }
 ],
 "metadata": {
  "kernelspec": {
   "display_name": "Python 3 (ipykernel)",
   "language": "python",
   "name": "python3"
  },
  "language_info": {
   "codemirror_mode": {
    "name": "ipython",
    "version": 3
   },
   "file_extension": ".py",
   "mimetype": "text/x-python",
   "name": "python",
   "nbconvert_exporter": "python",
   "pygments_lexer": "ipython3",
   "version": "3.10.9"
  }
 },
 "nbformat": 4,
 "nbformat_minor": 5
}
