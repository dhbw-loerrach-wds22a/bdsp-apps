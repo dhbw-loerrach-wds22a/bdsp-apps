{
 "cells": [
  {
   "cell_type": "code",
   "execution_count": 1,
   "id": "b8736938",
   "metadata": {},
   "outputs": [],
   "source": [
    "import pandas as pd\n",
    "from surprise import Reader, Dataset, SVD\n",
    "from surprise.model_selection import train_test_split\n",
    "from surprise import accuracy"
   ]
  },
  {
   "cell_type": "code",
   "execution_count": 2,
   "id": "2444f18d",
   "metadata": {},
   "outputs": [],
   "source": [
    "# Dateipfade\n",
    "train_file_path = '/Users/kilianlorenz/Uni/Big_Data/Data/2019-Oct_trainings_data.csv'\n",
    "test_file_path = '/Users/kilianlorenz/Uni/Big_Data/Data/2019-Oct_test_data.csv'"
   ]
  },
  {
   "cell_type": "code",
   "execution_count": 3,
   "id": "8dc16ea9",
   "metadata": {},
   "outputs": [],
   "source": [
    "# Einlesen der Daten\n",
    "train_data = pd.read_csv(train_file_path, nrows = 800000)\n",
    "test_data = pd.read_csv(test_file_path, nrows = 200000)"
   ]
  },
  {
   "cell_type": "code",
   "execution_count": 4,
   "id": "1e85bdd3",
   "metadata": {},
   "outputs": [],
   "source": [
    "# Erzeugen von impliziten Bewertungen basierend auf dem Kaufereignis\n",
    "train_data['rating'] = train_data['event_type'].apply(lambda x: 1 if x == 'purchase' else 0)\n",
    "test_data['rating'] = test_data['event_type'].apply(lambda x: 1 if x == 'purchase' else 0)"
   ]
  },
  {
   "cell_type": "code",
   "execution_count": 5,
   "id": "a9a5ec17",
   "metadata": {},
   "outputs": [],
   "source": [
    "# Vorbereiten der Daten für Surprise\n",
    "reader = Reader(rating_scale=(0, 1))  # Rating-Skala anpassen, da wir binäre Bewertungen haben\n",
    "train_dataset = Dataset.load_from_df(train_data[['user_id', 'product_id', 'rating']], reader)"
   ]
  },
  {
   "cell_type": "code",
   "execution_count": 6,
   "id": "6533cad8",
   "metadata": {},
   "outputs": [],
   "source": [
    "# Trainingsdatensatz erstellen\n",
    "trainset = train_dataset.build_full_trainset()"
   ]
  },
  {
   "cell_type": "code",
   "execution_count": 7,
   "id": "7530e09e",
   "metadata": {},
   "outputs": [
    {
     "data": {
      "text/plain": [
       "<surprise.prediction_algorithms.matrix_factorization.SVD at 0x7fa560a8dcd0>"
      ]
     },
     "execution_count": 7,
     "metadata": {},
     "output_type": "execute_result"
    }
   ],
   "source": [
    "# Modell initialisieren und trainieren\n",
    "model = SVD()\n",
    "model.fit(trainset)"
   ]
  },
  {
   "cell_type": "code",
   "execution_count": 8,
   "id": "c59b13fe",
   "metadata": {},
   "outputs": [],
   "source": [
    "# Testdatensatz vorbereiten\n",
    "testset = [(uid, iid, r) for uid, iid, r in zip(test_data['user_id'], test_data['product_id'], test_data['rating'])]"
   ]
  },
  {
   "cell_type": "code",
   "execution_count": 9,
   "id": "c22aec24",
   "metadata": {},
   "outputs": [],
   "source": [
    "# Vorhersagen auf Testdaten machen\n",
    "predictions = model.test(testset)"
   ]
  },
  {
   "cell_type": "code",
   "execution_count": 10,
   "id": "3adb5c37",
   "metadata": {},
   "outputs": [
    {
     "name": "stdout",
     "output_type": "stream",
     "text": [
      "RMSE: 0.1564\n",
      "MAE:  0.0437\n"
     ]
    }
   ],
   "source": [
    "# Bewertung des Modells\n",
    "rmse = accuracy.rmse(predictions)\n",
    "mae = accuracy.mae(predictions)"
   ]
  },
  {
   "cell_type": "code",
   "execution_count": 11,
   "id": "ec222b68",
   "metadata": {},
   "outputs": [
    {
     "name": "stdout",
     "output_type": "stream",
     "text": [
      "Root Mean Squared Error: 0.1563586187836663\n",
      "Mean Absolute Error: 0.04374558983652574\n"
     ]
    }
   ],
   "source": [
    "# Ausgabe der Bewertungsergebnisse\n",
    "print(f\"Root Mean Squared Error: {rmse}\")\n",
    "print(f\"Mean Absolute Error: {mae}\")"
   ]
  },
  {
   "cell_type": "code",
   "execution_count": 12,
   "id": "fe68ca35",
   "metadata": {},
   "outputs": [],
   "source": [
    "import joblib"
   ]
  },
  {
   "cell_type": "code",
   "execution_count": 13,
   "id": "5f139407",
   "metadata": {},
   "outputs": [
    {
     "data": {
      "text/plain": [
       "['/Users/kilianlorenz/Uni/Big_Data/Data/recommender_model.pkl']"
      ]
     },
     "execution_count": 13,
     "metadata": {},
     "output_type": "execute_result"
    }
   ],
   "source": [
    "model_filename = '/Users/kilianlorenz/Uni/Big_Data/Data/recommender_model.pkl'\n",
    "joblib.dump(model, model_filename)"
   ]
  },
  {
   "cell_type": "code",
   "execution_count": null,
   "id": "1e106bbb",
   "metadata": {},
   "outputs": [],
   "source": [
    "model_filename = \"/Users/kilianlorenz/Uni/Big_Data/Data/recommender_model.pkl\""
   ]
  },
  {
   "cell_type": "code",
   "execution_count": null,
   "id": "816c2b6f",
   "metadata": {},
   "outputs": [],
   "source": [
    "# Lade das gespeicherte Modell\n",
    "loaded_model = joblib.load(model_filename)\n"
   ]
  },
  {
   "cell_type": "code",
   "execution_count": null,
   "id": "3b39be4f",
   "metadata": {},
   "outputs": [],
   "source": [
    "# Trainingsdaten mit neuen Daten aktualisieren\n",
    "updated_train_dataset = Dataset.load_from_df(new_data[['user_id', 'product_id', 'rating']], reader)\n",
    "updated_trainset = updated_train_dataset.build_full_trainset()"
   ]
  },
  {
   "cell_type": "code",
   "execution_count": null,
   "id": "77f8156a",
   "metadata": {},
   "outputs": [],
   "source": [
    "# Modell aktualisieren\n",
    "loaded_model.fit(updated_trainset)"
   ]
  },
  {
   "cell_type": "code",
   "execution_count": 14,
   "id": "cda5a795",
   "metadata": {},
   "outputs": [],
   "source": [
    "import matplotlib.pyplot as plt\n",
    "import numpy as np\n",
    "from surprise.model_selection import cross_validate"
   ]
  },
  {
   "cell_type": "code",
   "execution_count": 15,
   "id": "a8a74098",
   "metadata": {},
   "outputs": [],
   "source": [
    "# Modell initialisieren (Sie haben bereits ein trainiertes Modell)\n",
    "model = SVD()"
   ]
  },
  {
   "cell_type": "code",
   "execution_count": 27,
   "id": "0ac65529",
   "metadata": {},
   "outputs": [],
   "source": [
    "train_sizes = [1000, 5000, 10000, 20000, 50000, 100000]"
   ]
  },
  {
   "cell_type": "code",
   "execution_count": 28,
   "id": "5ccff342",
   "metadata": {},
   "outputs": [],
   "source": [
    "# Leere Listen für die speichern von RMSE und MAE\n",
    "rmse_scores = []\n",
    "mae_scores = []"
   ]
  },
  {
   "cell_type": "code",
   "execution_count": 29,
   "id": "637d7501",
   "metadata": {},
   "outputs": [
    {
     "name": "stdout",
     "output_type": "stream",
     "text": [
      "RMSE: 0.1568\n",
      "MAE:  0.0367\n",
      "RMSE: 0.1567\n",
      "MAE:  0.0441\n",
      "RMSE: 0.1567\n",
      "MAE:  0.0446\n",
      "RMSE: 0.1568\n",
      "MAE:  0.0438\n",
      "RMSE: 0.1565\n",
      "MAE:  0.0464\n",
      "RMSE: 0.1565\n",
      "MAE:  0.0458\n"
     ]
    }
   ],
   "source": [
    "for train_size in train_sizes:\n",
    "    # Teilmenge der Trainingsdaten auswählen\n",
    "    subset_data = train_data.sample(n=train_size, random_state=42)\n",
    "    \n",
    "    # Vorbereiten der Daten für Surprise\n",
    "    reader = Reader(rating_scale=(0, 1))\n",
    "    train_dataset = Dataset.load_from_df(subset_data[['user_id', 'product_id', 'rating']], reader)\n",
    "    trainset = train_dataset.build_full_trainset()\n",
    "    \n",
    "    # Modell trainieren\n",
    "    model.fit(trainset)\n",
    "    \n",
    "    # Testdaten vorbereiten\n",
    "    testset = [(uid, iid, r) for uid, iid, r in zip(test_data['user_id'], test_data['product_id'], test_data['rating'])]\n",
    "    \n",
    "    # Vorhersagen auf Testdaten machen\n",
    "    predictions = model.test(testset)\n",
    "    \n",
    "    # Berechnen von RMSE und MAE\n",
    "    rmse = accuracy.rmse(predictions)\n",
    "    mae = accuracy.mae(predictions)\n",
    "    \n",
    "    rmse_scores.append(rmse)\n",
    "    mae_scores.append(mae)"
   ]
  },
  {
   "cell_type": "code",
   "execution_count": 30,
   "id": "5e4bd3bc",
   "metadata": {},
   "outputs": [
    {
     "data": {
      "image/png": "[encoded data removed]",
      "text/plain": [
       "<Figure size 720x432 with 1 Axes>"
      ]
     },
     "metadata": {
      "needs_background": "light"
     },
     "output_type": "display_data"
    }
   ],
   "source": [
    "# Lernkurve zeichnen\n",
    "plt.figure(figsize=(10, 6))\n",
    "plt.plot(train_sizes, rmse_scores, label='RMSE')\n",
    "plt.plot(train_sizes, mae_scores, label='MAE')\n",
    "plt.xlabel('Trainingsdatengröße')\n",
    "plt.ylabel('Fehler')\n",
    "plt.legend()\n",
    "plt.title('Lernkurve für das Recommender-System-Modell')\n",
    "plt.grid(True)\n",
    "plt.show()"
   ]
  },
  {
   "cell_type": "code",
   "execution_count": 31,
   "id": "bb6104ea",
   "metadata": {},
   "outputs": [],
   "source": []
  },
  {
   "cell_type": "code",
   "execution_count": 33,
   "id": "6a9a285c",
   "metadata": {},
   "outputs": [],
   "source": [
    "import pickle\n",
    "import pandas as pd\n",
    "from sklearn.metrics import confusion_matrix, ConfusionMatrixDisplay\n",
    "import matplotlib.pyplot as plt"
   ]
  },
  {
   "cell_type": "code",
   "execution_count": 35,
   "id": "45c62120",
   "metadata": {},
   "outputs": [
    {
     "ename": "UnpicklingError",
     "evalue": "invalid load key, '\\x1e'.",
     "output_type": "error",
     "traceback": [
      "\u001b[0;31m---------------------------------------------------------------------------\u001b[0m",
      "\u001b[0;31mUnpicklingError\u001b[0m                           Traceback (most recent call last)",
      "Input \u001b[0;32mIn [35]\u001b[0m, in \u001b[0;36m<cell line: 2>\u001b[0;34m()\u001b[0m\n\u001b[1;32m      1\u001b[0m model_file_path \u001b[38;5;241m=\u001b[39m \u001b[38;5;124m'\u001b[39m\u001b[38;5;124m/Users/kilianlorenz/Uni/Big_Data/Data/recommender_model.pkl\u001b[39m\u001b[38;5;124m'\u001b[39m\n\u001b[1;32m      2\u001b[0m \u001b[38;5;28;01mwith\u001b[39;00m \u001b[38;5;28mopen\u001b[39m(model_file_path, \u001b[38;5;124m'\u001b[39m\u001b[38;5;124mrb\u001b[39m\u001b[38;5;124m'\u001b[39m) \u001b[38;5;28;01mas\u001b[39;00m model_file:\n\u001b[0;32m----> 3\u001b[0m     model \u001b[38;5;241m=\u001b[39m \u001b[43mpickle\u001b[49m\u001b[38;5;241;43m.\u001b[39;49m\u001b[43mload\u001b[49m\u001b[43m(\u001b[49m\u001b[43mmodel_file\u001b[49m\u001b[43m)\u001b[49m\n",
      "\u001b[0;31mUnpicklingError\u001b[0m: invalid load key, '\\x1e'."
     ]
    }
   ],
   "source": [
    "model_file_path = '/Users/kilianlorenz/Uni/Big_Data/Data/recommender_model.pkl'\n",
    "with open(model_file_path, 'rb') as model_file:\n",
    "    model = pickle.load(model_file)\n"
   ]
  },
  {
   "cell_type": "code",
   "execution_count": 36,
   "id": "70dc12ce",
   "metadata": {},
   "outputs": [],
   "source": [
    "test_data_file_path = '/Users/kilianlorenz/Uni/Big_Data/Data/2019-Oct_test_data.csv'\n",
    "test_data = pd.read_csv(test_data_file_path)"
   ]
  },
  {
   "cell_type": "code",
   "execution_count": 37,
   "id": "3002af7f",
   "metadata": {},
   "outputs": [
    {
     "ename": "KeyError",
     "evalue": "'rating'",
     "output_type": "error",
     "traceback": [
      "\u001b[0;31m---------------------------------------------------------------------------\u001b[0m",
      "\u001b[0;31mKeyError\u001b[0m                                  Traceback (most recent call last)",
      "File \u001b[0;32m~/opt/anaconda3/lib/python3.9/site-packages/pandas/core/indexes/base.py:3621\u001b[0m, in \u001b[0;36mIndex.get_loc\u001b[0;34m(self, key, method, tolerance)\u001b[0m\n\u001b[1;32m   3620\u001b[0m \u001b[38;5;28;01mtry\u001b[39;00m:\n\u001b[0;32m-> 3621\u001b[0m     \u001b[38;5;28;01mreturn\u001b[39;00m \u001b[38;5;28;43mself\u001b[39;49m\u001b[38;5;241;43m.\u001b[39;49m\u001b[43m_engine\u001b[49m\u001b[38;5;241;43m.\u001b[39;49m\u001b[43mget_loc\u001b[49m\u001b[43m(\u001b[49m\u001b[43mcasted_key\u001b[49m\u001b[43m)\u001b[49m\n\u001b[1;32m   3622\u001b[0m \u001b[38;5;28;01mexcept\u001b[39;00m \u001b[38;5;167;01mKeyError\u001b[39;00m \u001b[38;5;28;01mas\u001b[39;00m err:\n",
      "File \u001b[0;32m~/opt/anaconda3/lib/python3.9/site-packages/pandas/_libs/index.pyx:136\u001b[0m, in \u001b[0;36mpandas._libs.index.IndexEngine.get_loc\u001b[0;34m()\u001b[0m\n",
      "File \u001b[0;32m~/opt/anaconda3/lib/python3.9/site-packages/pandas/_libs/index.pyx:163\u001b[0m, in \u001b[0;36mpandas._libs.index.IndexEngine.get_loc\u001b[0;34m()\u001b[0m\n",
      "File \u001b[0;32mpandas/_libs/hashtable_class_helper.pxi:5198\u001b[0m, in \u001b[0;36mpandas._libs.hashtable.PyObjectHashTable.get_item\u001b[0;34m()\u001b[0m\n",
      "File \u001b[0;32mpandas/_libs/hashtable_class_helper.pxi:5206\u001b[0m, in \u001b[0;36mpandas._libs.hashtable.PyObjectHashTable.get_item\u001b[0;34m()\u001b[0m\n",
      "\u001b[0;31mKeyError\u001b[0m: 'rating'",
      "\nThe above exception was the direct cause of the following exception:\n",
      "\u001b[0;31mKeyError\u001b[0m                                  Traceback (most recent call last)",
      "Input \u001b[0;32mIn [37]\u001b[0m, in \u001b[0;36m<cell line: 1>\u001b[0;34m()\u001b[0m\n\u001b[0;32m----> 1\u001b[0m true_labels \u001b[38;5;241m=\u001b[39m \u001b[43mtest_data\u001b[49m\u001b[43m[\u001b[49m\u001b[38;5;124;43m'\u001b[39;49m\u001b[38;5;124;43mrating\u001b[39;49m\u001b[38;5;124;43m'\u001b[39;49m\u001b[43m]\u001b[49m\u001b[38;5;241m.\u001b[39mtolist()\n\u001b[1;32m      2\u001b[0m predicted_labels \u001b[38;5;241m=\u001b[39m []\n",
      "File \u001b[0;32m~/opt/anaconda3/lib/python3.9/site-packages/pandas/core/frame.py:3505\u001b[0m, in \u001b[0;36mDataFrame.__getitem__\u001b[0;34m(self, key)\u001b[0m\n\u001b[1;32m   3503\u001b[0m \u001b[38;5;28;01mif\u001b[39;00m \u001b[38;5;28mself\u001b[39m\u001b[38;5;241m.\u001b[39mcolumns\u001b[38;5;241m.\u001b[39mnlevels \u001b[38;5;241m>\u001b[39m \u001b[38;5;241m1\u001b[39m:\n\u001b[1;32m   3504\u001b[0m     \u001b[38;5;28;01mreturn\u001b[39;00m \u001b[38;5;28mself\u001b[39m\u001b[38;5;241m.\u001b[39m_getitem_multilevel(key)\n\u001b[0;32m-> 3505\u001b[0m indexer \u001b[38;5;241m=\u001b[39m \u001b[38;5;28;43mself\u001b[39;49m\u001b[38;5;241;43m.\u001b[39;49m\u001b[43mcolumns\u001b[49m\u001b[38;5;241;43m.\u001b[39;49m\u001b[43mget_loc\u001b[49m\u001b[43m(\u001b[49m\u001b[43mkey\u001b[49m\u001b[43m)\u001b[49m\n\u001b[1;32m   3506\u001b[0m \u001b[38;5;28;01mif\u001b[39;00m is_integer(indexer):\n\u001b[1;32m   3507\u001b[0m     indexer \u001b[38;5;241m=\u001b[39m [indexer]\n",
      "File \u001b[0;32m~/opt/anaconda3/lib/python3.9/site-packages/pandas/core/indexes/base.py:3623\u001b[0m, in \u001b[0;36mIndex.get_loc\u001b[0;34m(self, key, method, tolerance)\u001b[0m\n\u001b[1;32m   3621\u001b[0m     \u001b[38;5;28;01mreturn\u001b[39;00m \u001b[38;5;28mself\u001b[39m\u001b[38;5;241m.\u001b[39m_engine\u001b[38;5;241m.\u001b[39mget_loc(casted_key)\n\u001b[1;32m   3622\u001b[0m \u001b[38;5;28;01mexcept\u001b[39;00m \u001b[38;5;167;01mKeyError\u001b[39;00m \u001b[38;5;28;01mas\u001b[39;00m err:\n\u001b[0;32m-> 3623\u001b[0m     \u001b[38;5;28;01mraise\u001b[39;00m \u001b[38;5;167;01mKeyError\u001b[39;00m(key) \u001b[38;5;28;01mfrom\u001b[39;00m \u001b[38;5;21;01merr\u001b[39;00m\n\u001b[1;32m   3624\u001b[0m \u001b[38;5;28;01mexcept\u001b[39;00m \u001b[38;5;167;01mTypeError\u001b[39;00m:\n\u001b[1;32m   3625\u001b[0m     \u001b[38;5;66;03m# If we have a listlike key, _check_indexing_error will raise\u001b[39;00m\n\u001b[1;32m   3626\u001b[0m     \u001b[38;5;66;03m#  InvalidIndexError. Otherwise we fall through and re-raise\u001b[39;00m\n\u001b[1;32m   3627\u001b[0m     \u001b[38;5;66;03m#  the TypeError.\u001b[39;00m\n\u001b[1;32m   3628\u001b[0m     \u001b[38;5;28mself\u001b[39m\u001b[38;5;241m.\u001b[39m_check_indexing_error(key)\n",
      "\u001b[0;31mKeyError\u001b[0m: 'rating'"
     ]
    }
   ],
   "source": [
    "true_labels = test_data['rating'].tolist()\n",
    "predicted_labels = []"
   ]
  },
  {
   "cell_type": "code",
   "execution_count": null,
   "id": "9881fe84",
   "metadata": {},
   "outputs": [],
   "source": [
    "for index, row in test_data.iterrows():\n",
    "    user_id = row['user_id']\n",
    "    product_id = row['product_id']\n",
    "    \n",
    "    # Verwenden Sie das Modell, um die Bewertung (Empfehlung) für die Kombination vorherzusagen\n",
    "    prediction = model.predict(user_id, product_id)\n",
    "    \n",
    "    # Fügen Sie die vorhergesagte Bewertung zur Liste hinzu\n",
    "    predicted_labels.append(round(prediction.est))  # Runde auf 0 oder 1\n"
   ]
  },
  {
   "cell_type": "code",
   "execution_count": null,
   "id": "374ea87f",
   "metadata": {},
   "outputs": [],
   "source": [
    "cm = confusion_matrix(true_labels, predicted_labels)\n"
   ]
  },
  {
   "cell_type": "code",
   "execution_count": null,
   "id": "26beb307",
   "metadata": {},
   "outputs": [],
   "source": [
    "disp = ConfusionMatrixDisplay(confusion_matrix=cm, display_labels=['Nicht empfohlen', 'Empfohlen'])\n",
    "disp.plot(cmap='Blues', values_format='d')\n",
    "plt.title('Konfusionsmatrix für das Recommender-System-Modell')\n",
    "plt.show()"
   ]
  },
  {
   "cell_type": "code",
   "execution_count": null,
   "id": "e60baac4",
   "metadata": {},
   "outputs": [],
   "source": []
  }
 ],
 "metadata": {
  "kernelspec": {
   "display_name": "Python 3 (ipykernel)",
   "language": "python",
   "name": "python3"
  },
  "language_info": {
   "codemirror_mode": {
    "name": "ipython",
    "version": 3
   },
   "file_extension": ".py",
   "mimetype": "text/x-python",
   "name": "python",
   "nbconvert_exporter": "python",
   "pygments_lexer": "ipython3",
   "version": "3.9.12"
  }
 },
 "nbformat": 4,
 "nbformat_minor": 5
}
