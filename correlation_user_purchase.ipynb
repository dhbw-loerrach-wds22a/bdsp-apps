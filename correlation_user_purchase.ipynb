{
 "cells": [
  {
   "cell_type": "code",
   "execution_count": 1,
   "id": "0931196a-3874-4eb5-9341-ce3f8ed065bb",
   "metadata": {
    "tags": []
   },
   "outputs": [],
   "source": [
    "from pyspark.sql import SparkSession\n",
    "spark = SparkSession.builder \\\n",
    "        .appName(\"Test\") \\\n",
    "        .config(\"spark.hadoop.fs.s3a.endpoint\", \"http://minio:9000\") \\\n",
    "        .config(\"spark.hadoop.fs.s3a.access.key\", \"minioadmin\") \\\n",
    "        .config(\"spark.hadoop.fs.s3a.secret.key\", \"minioadmin\") \\\n",
    "        .config(\"spark.hadoop.fs.s3a.path.style.access\", True) \\\n",
    "        .config(\"spark.hadoop.fs.s3a.impl\", \"org.apache.hadoop.fs.s3a.S3AFileSystem\") \\\n",
    "        .config(\"spark.hadoop.fs.s3a.aws.credentials.provider\", \"org.apache.hadoop.fs.s3a.SimpleAWSCredentialsProvider\") \\\n",
    "        .getOrCreate()"
   ]
  },
  {
   "cell_type": "code",
   "execution_count": 6,
   "id": "a036ddbb",
   "metadata": {
    "tags": []
   },
   "outputs": [
    {
     "name": "stdout",
     "output_type": "stream",
     "text": [
      "Row(event_time='2019-11-04T19:08:52.000Z', event_type='view', product_id='19100002', category_id='2053013556227473861', main_category='construction', sub_category='tools', subsub_category='saw', brand='bosch', price='105.76', user_id='512589760', user_session='80f6f04e-5ae7-4592-847d-67f4f2e4bc74')\n"
     ]
    }
   ],
   "source": [
    "file_path = f\"s3a://datawarehouse/core_data.csv\"\n",
    "data =  spark.read.csv(file_path, header=True)\n",
    "print(data.head())"
   ]
  },
  {
   "cell_type": "code",
   "execution_count": 11,
   "id": "35c16c3e",
   "metadata": {
    "tags": []
   },
   "outputs": [],
   "source": [
    "\n",
    "# Anzahl der Interaktionen pro Benutzer und Produkt zählen\n",
    "interaction_counts = data.groupby(['user_id', 'product_id']).count()\n",
    "interaction_counts = interaction_counts.withColumnRenamed(\"count\", \"interaction_count\")"
   ]
  },
  {
   "cell_type": "code",
   "execution_count": 10,
   "id": "262b5aee",
   "metadata": {
    "tags": []
   },
   "outputs": [],
   "source": [
    "\n",
    "# Anzahl der Käufe pro Benutzer und Produkt zählen\n",
    "# Filter the data where event_type is 'purchase'\n",
    "purchase_data = data.filter(data['event_type'] == 'purchase')\n",
    "\n",
    "# Group by user_id and product_id, and count the number of purchases\n",
    "purchase_counts = purchase_data.groupby('user_id', 'product_id').count()\n",
    "\n",
    "# Rename the count column to purchase_count\n",
    "purchase_counts = purchase_counts.withColumnRenamed(\"count\", \"purchase_count\")\n"
   ]
  },
  {
   "cell_type": "code",
   "execution_count": 14,
   "id": "0cebf8fa",
   "metadata": {
    "tags": []
   },
   "outputs": [],
   "source": [
    "# Zusammenführen der Interaktions- und Kaufzählungen\n",
    "combined_data = interaction_counts.join(purchase_counts, on=['user_id', 'product_id'], how='left')\n",
    "\n"
   ]
  },
  {
   "cell_type": "code",
   "execution_count": 16,
   "id": "227a911e",
   "metadata": {
    "tags": []
   },
   "outputs": [],
   "source": [
    "# Ersetzen von NaN-Werten mit 0, da keine Käufe gleichbedeutend mit 0 Käufen sind\n",
    "combined_data = combined_data.fillna({'purchase_count': 0})\n",
    "\n"
   ]
  },
  {
   "cell_type": "code",
   "execution_count": 21,
   "id": "d160100f",
   "metadata": {
    "tags": []
   },
   "outputs": [],
   "source": [
    "# Berechnung der Korrelation\n",
    "from pyspark.sql.functions import corr\n",
    "\n",
    "# Calculate the correlation between interaction_count and purchase_count\n",
    "correlation_result = combined_data.select(corr(\"interaction_count\", \"purchase_count\").alias(\"correlation\"))"
   ]
  },
  {
   "cell_type": "code",
   "execution_count": 22,
   "id": "6d08b6f6",
   "metadata": {
    "tags": []
   },
   "outputs": [
    {
     "name": "stdout",
     "output_type": "stream",
     "text": [
      "Korrelation zwischen Interaktionsanzahl und Kaufanzahl: 0.44961662830493343\n"
     ]
    }
   ],
   "source": [
    "# Collect the result into a variable\n",
    "correlation_result_collected = correlation_result.collect()\n",
    "\n",
    "# Extract the correlation value from the collected data\n",
    "correlation_value = correlation_result_collected[0]['correlation']\n",
    "\n",
    "# Print the correlation\n",
    "print(f\"Korrelation zwischen Interaktionsanzahl und Kaufanzahl: {correlation_value}\")"
   ]
  },
  {
   "cell_type": "code",
   "execution_count": null,
   "id": "dfd70de0-4457-4b36-8765-adf95b3b6813",
   "metadata": {},
   "outputs": [],
   "source": []
  }
 ],
 "metadata": {
  "kernelspec": {
   "display_name": "Python 3 (ipykernel)",
   "language": "python",
   "name": "python3"
  },
  "language_info": {
   "codemirror_mode": {
    "name": "ipython",
    "version": 3
   },
   "file_extension": ".py",
   "mimetype": "text/x-python",
   "name": "python",
   "nbconvert_exporter": "python",
   "pygments_lexer": "ipython3",
   "version": "3.10.9"
  }
 },
 "nbformat": 4,
 "nbformat_minor": 5
}
