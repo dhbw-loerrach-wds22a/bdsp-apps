{
 "cells": [
  {
   "cell_type": "code",
   "execution_count": 27,
   "id": "a8a1bbf5",
   "metadata": {},
   "outputs": [],
   "source": [
    "import pandas as pd"
   ]
  },
  {
   "cell_type": "code",
   "execution_count": 28,
   "id": "a036ddbb",
   "metadata": {},
   "outputs": [],
   "source": [
    "data = pd.read_csv(\"/Users/kilianlorenz/Uni/Big_Data/Data/2019-Dec.csv\") #Change Filepath"
   ]
  },
  {
   "cell_type": "code",
   "execution_count": 29,
   "id": "35c16c3e",
   "metadata": {},
   "outputs": [],
   "source": [
    "\n",
    "# Anzahl der Interaktionen pro Benutzer und Produkt zählen\n",
    "interaction_counts = data.groupby(['user_id', 'product_id']).size().reset_index(name='interaction_count')\n"
   ]
  },
  {
   "cell_type": "code",
   "execution_count": 30,
   "id": "262b5aee",
   "metadata": {},
   "outputs": [],
   "source": [
    "\n",
    "# Anzahl der Käufe pro Benutzer und Produkt zählen\n",
    "purchase_counts = data[data['event_type'] == 'purchase'].groupby(['user_id', 'product_id']).size().reset_index(name='purchase_count')\n",
    "\n"
   ]
  },
  {
   "cell_type": "code",
   "execution_count": 31,
   "id": "0cebf8fa",
   "metadata": {},
   "outputs": [],
   "source": [
    "# Zusammenführen der Interaktions- und Kaufzählungen\n",
    "combined_data = pd.merge(interaction_counts, purchase_counts, on=['user_id', 'product_id'], how='left')\n",
    "\n"
   ]
  },
  {
   "cell_type": "code",
   "execution_count": 32,
   "id": "227a911e",
   "metadata": {},
   "outputs": [],
   "source": [
    "# Ersetzen von NaN-Werten mit 0, da keine Käufe gleichbedeutend mit 0 Käufen sind\n",
    "combined_data['purchase_count'].fillna(0, inplace=True)\n",
    "\n"
   ]
  },
  {
   "cell_type": "code",
   "execution_count": 33,
   "id": "d160100f",
   "metadata": {},
   "outputs": [],
   "source": [
    "# Berechnung der Korrelation\n",
    "correlation = combined_data['interaction_count'].corr(combined_data['purchase_count'])\n",
    "\n"
   ]
  },
  {
   "cell_type": "code",
   "execution_count": 34,
   "id": "6d08b6f6",
   "metadata": {},
   "outputs": [
    {
     "name": "stdout",
     "output_type": "stream",
     "text": [
      "Korrelation zwischen Interaktionsanzahl und Kaufanzahl: 0.5607976812408002\n"
     ]
    }
   ],
   "source": [
    "print(f\"Korrelation zwischen Interaktionsanzahl und Kaufanzahl: {correlation}\")"
   ]
  },
  {
   "cell_type": "code",
   "execution_count": null,
   "id": "9d2c2c56",
   "metadata": {},
   "outputs": [],
   "source": []
  }
 ],
 "metadata": {
  "kernelspec": {
   "display_name": "Python 3 (ipykernel)",
   "language": "python",
   "name": "python3"
  },
  "language_info": {
   "codemirror_mode": {
    "name": "ipython",
    "version": 3
   },
   "file_extension": ".py",
   "mimetype": "text/x-python",
   "name": "python",
   "nbconvert_exporter": "python",
   "pygments_lexer": "ipython3",
   "version": "3.9.12"
  }
 },
 "nbformat": 4,
 "nbformat_minor": 5
}
